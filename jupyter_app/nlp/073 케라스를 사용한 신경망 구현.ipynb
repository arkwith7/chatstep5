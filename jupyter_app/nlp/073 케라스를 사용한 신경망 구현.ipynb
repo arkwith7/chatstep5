{
 "cells": [
  {
   "cell_type": "markdown",
   "metadata": {
    "colab_type": "text",
    "id": "_MJ40AX1F6tN",
    "school_cell_uuid": "503589e470af45d89e13b82dde8cb46f"
   },
   "source": [
    "# 케라스를 사용한 신경망 구현"
   ]
  },
  {
   "cell_type": "markdown",
   "metadata": {
    "colab_type": "text",
    "id": "kHJGT21vF6tV",
    "school_cell_uuid": "2969a8fdfb7e4e3bb57990a494a2e4f0"
   },
   "source": [
    "Keras 패키지는 Theano 또는 TensorFlow를 계산 엔진으로 사용하는 파이썬 패키지다. 신경망을 구성하기 위한 각 구성요소를 클래스로 제공하기 때문에 이를 간단히 연결하기만 하면 쉽게 신경망을 구현할 수 있다. 이 글에서는 버전 텐서플로우 2.0-beta에 추가된 케라스 2.2.4-tf 버전을 기준으로 설명한다."
   ]
  },
  {
   "cell_type": "code",
   "execution_count": 1,
   "metadata": {
    "colab": {
     "base_uri": "https://localhost:8080/",
     "height": 51
    },
    "colab_type": "code",
    "executionInfo": {
     "elapsed": 3865,
     "status": "ok",
     "timestamp": 1580986048568,
     "user": {
      "displayName": "Joel Kim",
      "photoUrl": "https://lh3.googleusercontent.com/a-/AAuE7mBN0WXo-0bYWXp5kx-AVZ6SaStj7WDcoC2A1QPiTYM=s64",
      "userId": "03446664688650714943"
     },
     "user_tz": -540
    },
    "id": "2g9q0ymdF6tX",
    "outputId": "23f70791-fed0-47bf-da5f-27f72b19e98d",
    "school_cell_uuid": "37e0ac93545647e8be42ea41717f0bb4"
   },
   "outputs": [
    {
     "name": "stderr",
     "output_type": "stream",
     "text": [
      "C:\\Users\\saint\\Anaconda3\\envs\\chat_env\\lib\\site-packages\\tensorflow\\python\\framework\\dtypes.py:516: FutureWarning: Passing (type, 1) or '1type' as a synonym of type is deprecated; in a future version of numpy, it will be understood as (type, (1,)) / '(1,)type'.\n",
      "  _np_qint8 = np.dtype([(\"qint8\", np.int8, 1)])\n",
      "C:\\Users\\saint\\Anaconda3\\envs\\chat_env\\lib\\site-packages\\tensorflow\\python\\framework\\dtypes.py:517: FutureWarning: Passing (type, 1) or '1type' as a synonym of type is deprecated; in a future version of numpy, it will be understood as (type, (1,)) / '(1,)type'.\n",
      "  _np_quint8 = np.dtype([(\"quint8\", np.uint8, 1)])\n",
      "C:\\Users\\saint\\Anaconda3\\envs\\chat_env\\lib\\site-packages\\tensorflow\\python\\framework\\dtypes.py:518: FutureWarning: Passing (type, 1) or '1type' as a synonym of type is deprecated; in a future version of numpy, it will be understood as (type, (1,)) / '(1,)type'.\n",
      "  _np_qint16 = np.dtype([(\"qint16\", np.int16, 1)])\n",
      "C:\\Users\\saint\\Anaconda3\\envs\\chat_env\\lib\\site-packages\\tensorflow\\python\\framework\\dtypes.py:519: FutureWarning: Passing (type, 1) or '1type' as a synonym of type is deprecated; in a future version of numpy, it will be understood as (type, (1,)) / '(1,)type'.\n",
      "  _np_quint16 = np.dtype([(\"quint16\", np.uint16, 1)])\n",
      "C:\\Users\\saint\\Anaconda3\\envs\\chat_env\\lib\\site-packages\\tensorflow\\python\\framework\\dtypes.py:520: FutureWarning: Passing (type, 1) or '1type' as a synonym of type is deprecated; in a future version of numpy, it will be understood as (type, (1,)) / '(1,)type'.\n",
      "  _np_qint32 = np.dtype([(\"qint32\", np.int32, 1)])\n",
      "C:\\Users\\saint\\Anaconda3\\envs\\chat_env\\lib\\site-packages\\tensorflow\\python\\framework\\dtypes.py:525: FutureWarning: Passing (type, 1) or '1type' as a synonym of type is deprecated; in a future version of numpy, it will be understood as (type, (1,)) / '(1,)type'.\n",
      "  np_resource = np.dtype([(\"resource\", np.ubyte, 1)])\n",
      "C:\\Users\\saint\\Anaconda3\\envs\\chat_env\\lib\\site-packages\\tensorboard\\compat\\tensorflow_stub\\dtypes.py:541: FutureWarning: Passing (type, 1) or '1type' as a synonym of type is deprecated; in a future version of numpy, it will be understood as (type, (1,)) / '(1,)type'.\n",
      "  _np_qint8 = np.dtype([(\"qint8\", np.int8, 1)])\n",
      "C:\\Users\\saint\\Anaconda3\\envs\\chat_env\\lib\\site-packages\\tensorboard\\compat\\tensorflow_stub\\dtypes.py:542: FutureWarning: Passing (type, 1) or '1type' as a synonym of type is deprecated; in a future version of numpy, it will be understood as (type, (1,)) / '(1,)type'.\n",
      "  _np_quint8 = np.dtype([(\"quint8\", np.uint8, 1)])\n",
      "C:\\Users\\saint\\Anaconda3\\envs\\chat_env\\lib\\site-packages\\tensorboard\\compat\\tensorflow_stub\\dtypes.py:543: FutureWarning: Passing (type, 1) or '1type' as a synonym of type is deprecated; in a future version of numpy, it will be understood as (type, (1,)) / '(1,)type'.\n",
      "  _np_qint16 = np.dtype([(\"qint16\", np.int16, 1)])\n",
      "C:\\Users\\saint\\Anaconda3\\envs\\chat_env\\lib\\site-packages\\tensorboard\\compat\\tensorflow_stub\\dtypes.py:544: FutureWarning: Passing (type, 1) or '1type' as a synonym of type is deprecated; in a future version of numpy, it will be understood as (type, (1,)) / '(1,)type'.\n",
      "  _np_quint16 = np.dtype([(\"quint16\", np.uint16, 1)])\n",
      "C:\\Users\\saint\\Anaconda3\\envs\\chat_env\\lib\\site-packages\\tensorboard\\compat\\tensorflow_stub\\dtypes.py:545: FutureWarning: Passing (type, 1) or '1type' as a synonym of type is deprecated; in a future version of numpy, it will be understood as (type, (1,)) / '(1,)type'.\n",
      "  _np_qint32 = np.dtype([(\"qint32\", np.int32, 1)])\n",
      "C:\\Users\\saint\\Anaconda3\\envs\\chat_env\\lib\\site-packages\\tensorboard\\compat\\tensorflow_stub\\dtypes.py:550: FutureWarning: Passing (type, 1) or '1type' as a synonym of type is deprecated; in a future version of numpy, it will be understood as (type, (1,)) / '(1,)type'.\n",
      "  np_resource = np.dtype([(\"resource\", np.ubyte, 1)])\n"
     ]
    },
    {
     "data": {
      "text/plain": [
       "'1.14.0'"
      ]
     },
     "execution_count": 1,
     "metadata": {},
     "output_type": "execute_result"
    }
   ],
   "source": [
    "# %tensorflow_version 2.x\n",
    "import tensorflow as tf\n",
    "tf.__version__"
   ]
  },
  {
   "cell_type": "code",
   "execution_count": 2,
   "metadata": {
    "colab": {
     "base_uri": "https://localhost:8080/",
     "height": 34
    },
    "colab_type": "code",
    "executionInfo": {
     "elapsed": 3785,
     "status": "ok",
     "timestamp": 1580986048571,
     "user": {
      "displayName": "Joel Kim",
      "photoUrl": "https://lh3.googleusercontent.com/a-/AAuE7mBN0WXo-0bYWXp5kx-AVZ6SaStj7WDcoC2A1QPiTYM=s64",
      "userId": "03446664688650714943"
     },
     "user_tz": -540
    },
    "id": "rUcg7-ftF6tz",
    "outputId": "bdb8da82-9c81-41f2-b644-2c430b62c4d9",
    "school_cell_uuid": "e0f485fe5ad64c97b22c7bdf14db6ad8"
   },
   "outputs": [
    {
     "data": {
      "text/plain": [
       "'2.2.4-tf'"
      ]
     },
     "execution_count": 2,
     "metadata": {},
     "output_type": "execute_result"
    }
   ],
   "source": [
    "from tensorflow import keras\n",
    "keras.__version__"
   ]
  },
  {
   "cell_type": "markdown",
   "metadata": {
    "colab_type": "text",
    "id": "sNBB6cGDF6t4",
    "school_cell_uuid": "b7a809d1ae724ba999e540e970491fa5"
   },
   "source": [
    "## 예제 데이터"
   ]
  },
  {
   "cell_type": "markdown",
   "metadata": {
    "colab_type": "text",
    "id": "KfJTvkgMF6uE",
    "school_cell_uuid": "bea39285eff04bf08597c8589d0779cb"
   },
   "source": [
    "Keras는 다음과 같은 샘플데이터를 제공한다.\n",
    "\n",
    "* CIFAR10 이미지\n",
    "  * 10 종류의 카테고리 라벨을 가지는 50,000 개의 32x32 해상도 컬러 트레이닝 이미지와 10,000 개의 테스트 이미지\n",
    "\n",
    "* CIFAR100 이미지\n",
    "  * 100 종류의 카테고리 라벨을 가지는 50,000 개의 32x32 해상도 컬러 트레이닝 이미지와 10,000 개의 테스트 이미지\n",
    "\n",
    "* IMDB 영화 감상\n",
    "  * positive/negative 라벨을 가지는 25,000 영화 감상 데이터\n",
    "  * 텍스트 단어는 숫자로 인코딩되어 있음\n",
    "\n",
    "* 로이터 뉴스 토픽 \n",
    "  * 46 종류의 토픽 라벨을 가지는 11,228 개의 로이터 뉴스 텍스트\n",
    "  * 텍스트 단어는 숫자로 인코딩되어 있음\n",
    "\n",
    "* MNIST 숫자 이미지\n",
    "  * 0부터 9까지의 숫자에 대한 28x28 단색 이미지\n",
    "  * 트레이딩 데이터 60,000개. 테스트 이미지 10,000개\n",
    "\n",
    "* MNIST 패션 이미지\n",
    "  * 10 종류의 의류 대한 28x28 단색 이미지\n",
    "  * 트레이딩 데이터 60,000개. 테스트 이미지 10,000개\n",
    "\n",
    "* Boston housing price\n",
    "  * 보스턴 주택 가격 데이터"
   ]
  },
  {
   "cell_type": "markdown",
   "metadata": {
    "colab_type": "text",
    "id": "6muF_plOF6uN",
    "school_cell_uuid": "911e64b93e70485986248f65f404a285"
   },
   "source": [
    "Keras를 사용하는 방법은 어렵지 않기 때문에 바로 MNIST 데이터를 이용해 신경망을 구현하는 예를 보인다."
   ]
  },
  {
   "cell_type": "code",
   "execution_count": 3,
   "metadata": {
    "colab": {
     "base_uri": "https://localhost:8080/",
     "height": 85
    },
    "colab_type": "code",
    "executionInfo": {
     "elapsed": 5433,
     "status": "ok",
     "timestamp": 1580986050261,
     "user": {
      "displayName": "Joel Kim",
      "photoUrl": "https://lh3.googleusercontent.com/a-/AAuE7mBN0WXo-0bYWXp5kx-AVZ6SaStj7WDcoC2A1QPiTYM=s64",
      "userId": "03446664688650714943"
     },
     "user_tz": -540
    },
    "id": "1ePaiuz2F6uO",
    "outputId": "823dca12-852c-436d-ccd1-eb202fe25725",
    "school_cell_uuid": "91e6d0a8cd9841cf9df5ab08fbcf2b1a"
   },
   "outputs": [
    {
     "data": {
      "image/png": "[encoded data removed]",
      "text/plain": [
       "<Figure size 432x72 with 36 Axes>"
      ]
     },
     "metadata": {
      "needs_background": "light"
     },
     "output_type": "display_data"
    }
   ],
   "source": [
    "mnist = keras.datasets.mnist\n",
    "(X_train0, y_train0), (X_test0, y_test0) = mnist.load_data()\n",
    "\n",
    "import matplotlib.pylab as plt\n",
    "\n",
    "plt.figure(figsize=(6, 1))\n",
    "for i in range(36):\n",
    "    plt.subplot(3, 12, i+1)\n",
    "    plt.imshow(X_train0[i], cmap=\"gray\")\n",
    "    plt.axis(\"off\")\n",
    "plt.show()"
   ]
  },
  {
   "cell_type": "markdown",
   "metadata": {
    "colab_type": "text",
    "id": "Y3bC3UAsF6uV",
    "school_cell_uuid": "0f979307d03e4a1cb4d0c10734b26160"
   },
   "source": [
    "Keras의 MNIST 이미지 데이터는 28x28로 scikit-learn보다 고해상도이다."
   ]
  },
  {
   "cell_type": "code",
   "execution_count": 4,
   "metadata": {
    "colab": {
     "base_uri": "https://localhost:8080/",
     "height": 85
    },
    "colab_type": "code",
    "executionInfo": {
     "elapsed": 5385,
     "status": "ok",
     "timestamp": 1580986050265,
     "user": {
      "displayName": "Joel Kim",
      "photoUrl": "https://lh3.googleusercontent.com/a-/AAuE7mBN0WXo-0bYWXp5kx-AVZ6SaStj7WDcoC2A1QPiTYM=s64",
      "userId": "03446664688650714943"
     },
     "user_tz": -540
    },
    "id": "y5LcN5CuF6uX",
    "outputId": "43284b67-3541-4850-962c-2c43e42e5495",
    "school_cell_uuid": "8cf04de8789547d68cc097d4cd5c0300"
   },
   "outputs": [
    {
     "name": "stdout",
     "output_type": "stream",
     "text": [
      "(60000, 28, 28) uint8\n",
      "(60000,) uint8\n",
      "(10000, 28, 28) uint8\n",
      "(10000,) uint8\n"
     ]
    }
   ],
   "source": [
    "print(X_train0.shape, X_train0.dtype)\n",
    "print(y_train0.shape, y_train0.dtype)\n",
    "print(X_test0.shape, X_test0.dtype)\n",
    "print(y_test0.shape, y_test0.dtype)"
   ]
  },
  {
   "cell_type": "markdown",
   "metadata": {
    "colab_type": "text",
    "id": "5Xf69CXjF6ur",
    "school_cell_uuid": "dbd8c0c7a6544459a16f598544aff993"
   },
   "source": [
    "데이터를 `float` 타입으로 변환 후 스케일링한다. 이는 이미지를 전처리하는 보편적인 방법 중 하나이다."
   ]
  },
  {
   "cell_type": "code",
   "execution_count": 5,
   "metadata": {
    "colab": {
     "base_uri": "https://localhost:8080/",
     "height": 34
    },
    "colab_type": "code",
    "executionInfo": {
     "elapsed": 5366,
     "status": "ok",
     "timestamp": 1580986050267,
     "user": {
      "displayName": "Joel Kim",
      "photoUrl": "https://lh3.googleusercontent.com/a-/AAuE7mBN0WXo-0bYWXp5kx-AVZ6SaStj7WDcoC2A1QPiTYM=s64",
      "userId": "03446664688650714943"
     },
     "user_tz": -540
    },
    "id": "HC87RwlQF6ut",
    "outputId": "db556abb-6481-4c04-d225-b59d67ea70f6",
    "school_cell_uuid": "63807fc962be46b899361d8d67ef13c0"
   },
   "outputs": [
    {
     "name": "stdout",
     "output_type": "stream",
     "text": [
      "(60000, 784) float32\n"
     ]
    }
   ],
   "source": [
    "X_train = X_train0.reshape(60000, 784).astype('float32') / 255.0\n",
    "X_test = X_test0.reshape(10000, 784).astype('float32') / 255.0\n",
    "print(X_train.shape, X_train.dtype)"
   ]
  },
  {
   "cell_type": "markdown",
   "metadata": {
    "colab_type": "text",
    "id": "INdTr-QlF6uy",
    "school_cell_uuid": "67c56a3d7ae144db9544668b7dd56878"
   },
   "source": [
    "정답데이터는 라벨에 해당하는 숫자로 되어 있다. "
   ]
  },
  {
   "cell_type": "code",
   "execution_count": 6,
   "metadata": {
    "colab": {
     "base_uri": "https://localhost:8080/",
     "height": 34
    },
    "colab_type": "code",
    "executionInfo": {
     "elapsed": 5353,
     "status": "ok",
     "timestamp": 1580986050269,
     "user": {
      "displayName": "Joel Kim",
      "photoUrl": "https://lh3.googleusercontent.com/a-/AAuE7mBN0WXo-0bYWXp5kx-AVZ6SaStj7WDcoC2A1QPiTYM=s64",
      "userId": "03446664688650714943"
     },
     "user_tz": -540
    },
    "id": "mNUCN0tSF6u0",
    "outputId": "47f0d01c-4ad4-4663-e18f-31f64fa34789",
    "school_cell_uuid": "3e6fd744f539409d92caf0698a88004b"
   },
   "outputs": [
    {
     "data": {
      "text/plain": [
       "array([5, 0, 4, 1, 9], dtype=uint8)"
      ]
     },
     "execution_count": 6,
     "metadata": {},
     "output_type": "execute_result"
    }
   ],
   "source": [
    "y_train0[:5]"
   ]
  },
  {
   "cell_type": "markdown",
   "metadata": {
    "colab_type": "text",
    "id": "wWZUkWaUF6u4",
    "school_cell_uuid": "c3e860e1e2c44a29a34e1cc253c65750"
   },
   "source": [
    "이 값을`keras.np_utils.categorical()`을 사용하여 원핫인코딩(One-Hot-Encoding)로 변환한다."
   ]
  },
  {
   "cell_type": "code",
   "execution_count": 7,
   "metadata": {
    "colab": {
     "base_uri": "https://localhost:8080/",
     "height": 102
    },
    "colab_type": "code",
    "executionInfo": {
     "elapsed": 5335,
     "status": "ok",
     "timestamp": 1580986050271,
     "user": {
      "displayName": "Joel Kim",
      "photoUrl": "https://lh3.googleusercontent.com/a-/AAuE7mBN0WXo-0bYWXp5kx-AVZ6SaStj7WDcoC2A1QPiTYM=s64",
      "userId": "03446664688650714943"
     },
     "user_tz": -540
    },
    "id": "otLo-gNuF6u5",
    "outputId": "c82657c1-617d-467e-af15-64f0ba39fbe7",
    "school_cell_uuid": "41ce0cfbad0a4988b5e41caea8c64e37"
   },
   "outputs": [
    {
     "data": {
      "text/plain": [
       "array([[0., 0., 0., 0., 0., 1., 0., 0., 0., 0.],\n",
       "       [1., 0., 0., 0., 0., 0., 0., 0., 0., 0.],\n",
       "       [0., 0., 0., 0., 1., 0., 0., 0., 0., 0.],\n",
       "       [0., 1., 0., 0., 0., 0., 0., 0., 0., 0.],\n",
       "       [0., 0., 0., 0., 0., 0., 0., 0., 0., 1.]], dtype=float32)"
      ]
     },
     "execution_count": 7,
     "metadata": {},
     "output_type": "execute_result"
    }
   ],
   "source": [
    "from tensorflow.keras.utils import to_categorical\n",
    "\n",
    "Y_train = to_categorical(y_train0, 10)\n",
    "Y_test = to_categorical(y_test0, 10)\n",
    "Y_train[:5]"
   ]
  },
  {
   "cell_type": "markdown",
   "metadata": {
    "colab_type": "text",
    "id": "xqkjEO_8F6vC",
    "school_cell_uuid": "1b5a5e32035b4080b52f8522a07097cc"
   },
   "source": [
    "## 신경망 구현 순서"
   ]
  },
  {
   "cell_type": "markdown",
   "metadata": {
    "colab_type": "text",
    "id": "jpX1fe7DF6vD",
    "school_cell_uuid": "417073e045cb4c72bbce5a0a87e6bde2"
   },
   "source": [
    "Keras 를 사용하면 다음과 같은 순서로 신경망을 구성할 수 있다.\n",
    "\n",
    "1. ``Sequential`` 모형 클래스 객체 생성\n",
    "1. ``add`` 메서드로 레이어 추가. \n",
    "   * 입력단부터 순차적으로 추가한다.\n",
    "   * 레이어는 출력 뉴런 갯수를 첫번째 인수로 받는다.\n",
    "   * 최초의 레이어는 ``input_dim`` 인수로 입력 크기를 설정해야 한다.\n",
    "   * ``activation`` 인수로 활성화함수 설정\n",
    "1. ``compile`` 메서드로 모형 완성. \n",
    "   * ``loss``인수로 비용함수 설정\n",
    "   * ``optimizer`` 인수로 최적화 알고리즘 설정\n",
    "   * ``metrics`` 인수로 트레이닝 단계에서 기록할 성능 기준 설정\n",
    "1. ``fit`` 메서드로 트레이닝\n",
    "   * ``nb_epoch`` 로 에포크(epoch) 횟수 설정\n",
    "   * ``batch_size`` 로 배치크기(batch size) 설정\n",
    "   * ``verbose``는 학습 중 출력되는 문구를 설정하는 것으로, 주피터노트북(Jupyter Notebook)을 사용할 때는 ``verbose=2``로 설정하여 진행 막대(progress bar)가 나오지 않도록 설정한다."
   ]
  },
  {
   "cell_type": "markdown",
   "metadata": {
    "colab_type": "text",
    "id": "HfjxaW6lF6vF",
    "school_cell_uuid": "183a469dd0614942ba27e218c1e20015"
   },
   "source": [
    "다음은 간단한 신경망 모형을 방금 설명한 방법으로 구현한 것이다."
   ]
  },
  {
   "cell_type": "code",
   "execution_count": 8,
   "metadata": {
    "colab": {},
    "colab_type": "code",
    "id": "5ppAgtgeF6vG",
    "school_cell_uuid": "6252483ee1504becb4d4c13696292562"
   },
   "outputs": [
    {
     "name": "stdout",
     "output_type": "stream",
     "text": [
      "WARNING:tensorflow:From C:\\Users\\saint\\Anaconda3\\envs\\chat_env\\lib\\site-packages\\tensorflow\\python\\ops\\init_ops.py:1251: calling VarianceScaling.__init__ (from tensorflow.python.ops.init_ops) with dtype is deprecated and will be removed in a future version.\n",
      "Instructions for updating:\n",
      "Call initializer instance with the dtype argument instead of passing it to the constructor\n"
     ]
    }
   ],
   "source": [
    "from tensorflow.keras.models import Sequential\n",
    "from tensorflow.keras.layers import Dense\n",
    "from tensorflow.keras.optimizers import SGD\n",
    "\n",
    "# tf.random.set_seed(0)\n",
    "\n",
    "model = Sequential()\n",
    "model.add(Dense(15, input_dim=784, activation=\"sigmoid\"))\n",
    "model.add(Dense(10, activation=\"sigmoid\"))\n",
    "model.compile(optimizer=SGD(lr=0.2), loss='mean_squared_error', metrics=[\"accuracy\"])"
   ]
  },
  {
   "cell_type": "markdown",
   "metadata": {
    "colab_type": "text",
    "id": "Y4Z1F0cHF6vK",
    "school_cell_uuid": "3ffe0515d7c74ba78c92cb43ef966694"
   },
   "source": [
    "만들어진 모형은  `summary` 명령으로 모델 내부의 ``layers`` 리스트를 살펴봄으로써 내부 구조를 확인할 수 있다."
   ]
  },
  {
   "cell_type": "code",
   "execution_count": 9,
   "metadata": {
    "colab": {
     "base_uri": "https://localhost:8080/",
     "height": 221
    },
    "colab_type": "code",
    "executionInfo": {
     "elapsed": 5482,
     "status": "ok",
     "timestamp": 1580986050548,
     "user": {
      "displayName": "Joel Kim",
      "photoUrl": "https://lh3.googleusercontent.com/a-/AAuE7mBN0WXo-0bYWXp5kx-AVZ6SaStj7WDcoC2A1QPiTYM=s64",
      "userId": "03446664688650714943"
     },
     "user_tz": -540
    },
    "id": "2cZiBfnAF6vL",
    "outputId": "57ae4477-1098-490d-e77c-fdc269896dbb",
    "school_cell_uuid": "2d84111751ee4ad18c788e7bd18828b4"
   },
   "outputs": [
    {
     "name": "stdout",
     "output_type": "stream",
     "text": [
      "Model: \"sequential\"\n",
      "_________________________________________________________________\n",
      "Layer (type)                 Output Shape              Param #   \n",
      "=================================================================\n",
      "dense (Dense)                (None, 15)                11775     \n",
      "_________________________________________________________________\n",
      "dense_1 (Dense)              (None, 10)                160       \n",
      "=================================================================\n",
      "Total params: 11,935\n",
      "Trainable params: 11,935\n",
      "Non-trainable params: 0\n",
      "_________________________________________________________________\n"
     ]
    }
   ],
   "source": [
    "model.summary()"
   ]
  },
  {
   "cell_type": "markdown",
   "metadata": {
    "colab_type": "text",
    "id": "FBtxAavCF6vP",
    "school_cell_uuid": "f3830cab8e4b4d6195d9d24bb6d808a0"
   },
   "source": [
    "layers 속성으로 각 레이어의 특성을 살펴볼 수도 있다."
   ]
  },
  {
   "cell_type": "code",
   "execution_count": 10,
   "metadata": {
    "colab": {
     "base_uri": "https://localhost:8080/",
     "height": 51
    },
    "colab_type": "code",
    "executionInfo": {
     "elapsed": 5375,
     "status": "ok",
     "timestamp": 1580986050553,
     "user": {
      "displayName": "Joel Kim",
      "photoUrl": "https://lh3.googleusercontent.com/a-/AAuE7mBN0WXo-0bYWXp5kx-AVZ6SaStj7WDcoC2A1QPiTYM=s64",
      "userId": "03446664688650714943"
     },
     "user_tz": -540
    },
    "id": "-JmGtMhWF6vQ",
    "outputId": "fb7e93b1-8b64-4d67-e193-5baa61a31544",
    "school_cell_uuid": "6c7d03af65e840b0ab84001d59c7b4b0"
   },
   "outputs": [
    {
     "name": "stdout",
     "output_type": "stream",
     "text": [
      "dense <class 'tensorflow.python.keras.layers.core.Dense'> (None, 15) sigmoid 11775\n",
      "dense_1 <class 'tensorflow.python.keras.layers.core.Dense'> (None, 10) sigmoid 160\n"
     ]
    }
   ],
   "source": [
    "l1 = model.layers[0]\n",
    "l2 = model.layers[1]\n",
    "\n",
    "print(l1.name, type(l1), l1.output_shape, l1.activation.__name__, l1.count_params())\n",
    "print(l2.name, type(l1), l2.output_shape, l2.activation.__name__, l2.count_params())"
   ]
  },
  {
   "cell_type": "markdown",
   "metadata": {
    "colab_type": "text",
    "id": "wQgvUIk3F6vV",
    "school_cell_uuid": "90cddcd7c80149af9b235998b3ffbf65"
   },
   "source": [
    "모델을 완성했다면 ``fit`` 메서드로 트레이닝을 시작한다."
   ]
  },
  {
   "cell_type": "code",
   "execution_count": 11,
   "metadata": {
    "colab": {
     "base_uri": "https://localhost:8080/",
     "height": 408
    },
    "colab_type": "code",
    "executionInfo": {
     "elapsed": 17872,
     "status": "ok",
     "timestamp": 1580986063063,
     "user": {
      "displayName": "Joel Kim",
      "photoUrl": "https://lh3.googleusercontent.com/a-/AAuE7mBN0WXo-0bYWXp5kx-AVZ6SaStj7WDcoC2A1QPiTYM=s64",
      "userId": "03446664688650714943"
     },
     "user_tz": -540
    },
    "id": "Q1IZqbDyF6vW",
    "outputId": "c6692426-8c52-45b1-adea-9d67ecb75c60",
    "school_cell_uuid": "34348831429a4995b41e35ac75970362"
   },
   "outputs": [
    {
     "name": "stdout",
     "output_type": "stream",
     "text": [
      "Train on 60000 samples, validate on 10000 samples\n",
      "Epoch 1/10\n",
      "60000/60000 - 1s - loss: 0.0997 - acc: 0.2515 - val_loss: 0.0874 - val_acc: 0.3217\n",
      "Epoch 2/10\n",
      "60000/60000 - 1s - loss: 0.0860 - acc: 0.3279 - val_loss: 0.0843 - val_acc: 0.3406\n",
      "Epoch 3/10\n",
      "60000/60000 - 1s - loss: 0.0825 - acc: 0.3605 - val_loss: 0.0804 - val_acc: 0.3821\n",
      "Epoch 4/10\n",
      "60000/60000 - 1s - loss: 0.0783 - acc: 0.4201 - val_loss: 0.0757 - val_acc: 0.4551\n",
      "Epoch 5/10\n",
      "60000/60000 - 1s - loss: 0.0733 - acc: 0.5070 - val_loss: 0.0702 - val_acc: 0.5581\n",
      "Epoch 6/10\n",
      "60000/60000 - 1s - loss: 0.0678 - acc: 0.5986 - val_loss: 0.0649 - val_acc: 0.6398\n",
      "Epoch 7/10\n",
      "60000/60000 - 1s - loss: 0.0627 - acc: 0.6637 - val_loss: 0.0599 - val_acc: 0.6951\n",
      "Epoch 8/10\n",
      "60000/60000 - 1s - loss: 0.0579 - acc: 0.7052 - val_loss: 0.0554 - val_acc: 0.7363\n",
      "Epoch 9/10\n",
      "60000/60000 - 1s - loss: 0.0537 - acc: 0.7407 - val_loss: 0.0514 - val_acc: 0.7587\n",
      "Epoch 10/10\n",
      "60000/60000 - 1s - loss: 0.0501 - acc: 0.7648 - val_loss: 0.0480 - val_acc: 0.7808\n",
      "Wall time: 7.69 s\n"
     ]
    }
   ],
   "source": [
    "%%time\n",
    "hist = model.fit(X_train, Y_train,\n",
    "                 epochs=10, batch_size=100,\n",
    "                 validation_data=(X_test, Y_test),\n",
    "                 verbose=2)"
   ]
  },
  {
   "cell_type": "markdown",
   "metadata": {
    "colab_type": "text",
    "id": "FmwfJaTyF6vd",
    "school_cell_uuid": "8052081d2b8141fea3de0acdeb20bc77"
   },
   "source": [
    "학습이 끝나면 기록된 변수를 확인한다. 다음 두 그래프는 방금 학습 시킨 모델의 비용함수와 성능지표에 대한 것이다. "
   ]
  },
  {
   "cell_type": "code",
   "execution_count": 12,
   "metadata": {
    "colab": {
     "base_uri": "https://localhost:8080/",
     "height": 297
    },
    "colab_type": "code",
    "executionInfo": {
     "elapsed": 18140,
     "status": "ok",
     "timestamp": 1580986063400,
     "user": {
      "displayName": "Joel Kim",
      "photoUrl": "https://lh3.googleusercontent.com/a-/AAuE7mBN0WXo-0bYWXp5kx-AVZ6SaStj7WDcoC2A1QPiTYM=s64",
      "userId": "03446664688650714943"
     },
     "user_tz": -540
    },
    "id": "SEZ8vcQbF6vf",
    "outputId": "2fd2fa32-1f0a-42d4-f0f5-1c1d47e59c87",
    "school_cell_uuid": "99dbe00305944808b6fcb5537b8f618a"
   },
   "outputs": [
    {
     "ename": "KeyError",
     "evalue": "'accuracy'",
     "output_type": "error",
     "traceback": [
      "\u001b[1;31m---------------------------------------------------------------------------\u001b[0m",
      "\u001b[1;31mKeyError\u001b[0m                                  Traceback (most recent call last)",
      "\u001b[1;32m<ipython-input-12-4a6b1f4f4ff3>\u001b[0m in \u001b[0;36m<module>\u001b[1;34m\u001b[0m\n\u001b[0;32m      5\u001b[0m \u001b[0mplt\u001b[0m\u001b[1;33m.\u001b[0m\u001b[0msubplot\u001b[0m\u001b[1;33m(\u001b[0m\u001b[1;36m1\u001b[0m\u001b[1;33m,\u001b[0m \u001b[1;36m2\u001b[0m\u001b[1;33m,\u001b[0m \u001b[1;36m2\u001b[0m\u001b[1;33m)\u001b[0m\u001b[1;33m\u001b[0m\u001b[1;33m\u001b[0m\u001b[0m\n\u001b[0;32m      6\u001b[0m \u001b[0mplt\u001b[0m\u001b[1;33m.\u001b[0m\u001b[0mtitle\u001b[0m\u001b[1;33m(\u001b[0m\u001b[1;34m\"accuracy\"\u001b[0m\u001b[1;33m)\u001b[0m\u001b[1;33m\u001b[0m\u001b[1;33m\u001b[0m\u001b[0m\n\u001b[1;32m----> 7\u001b[1;33m \u001b[0mplt\u001b[0m\u001b[1;33m.\u001b[0m\u001b[0mplot\u001b[0m\u001b[1;33m(\u001b[0m\u001b[0mhist\u001b[0m\u001b[1;33m.\u001b[0m\u001b[0mhistory\u001b[0m\u001b[1;33m[\u001b[0m\u001b[1;34m'accuracy'\u001b[0m\u001b[1;33m]\u001b[0m\u001b[1;33m,\u001b[0m \u001b[1;34m'b-'\u001b[0m\u001b[1;33m,\u001b[0m \u001b[0mlabel\u001b[0m\u001b[1;33m=\u001b[0m\u001b[1;34m\"training\"\u001b[0m\u001b[1;33m)\u001b[0m\u001b[1;33m\u001b[0m\u001b[1;33m\u001b[0m\u001b[0m\n\u001b[0m\u001b[0;32m      8\u001b[0m \u001b[0mplt\u001b[0m\u001b[1;33m.\u001b[0m\u001b[0mplot\u001b[0m\u001b[1;33m(\u001b[0m\u001b[0mhist\u001b[0m\u001b[1;33m.\u001b[0m\u001b[0mhistory\u001b[0m\u001b[1;33m[\u001b[0m\u001b[1;34m'val_accuracy'\u001b[0m\u001b[1;33m]\u001b[0m\u001b[1;33m,\u001b[0m \u001b[1;34m'r:'\u001b[0m\u001b[1;33m,\u001b[0m \u001b[0mlabel\u001b[0m\u001b[1;33m=\u001b[0m\u001b[1;34m\"validation\"\u001b[0m\u001b[1;33m)\u001b[0m\u001b[1;33m\u001b[0m\u001b[1;33m\u001b[0m\u001b[0m\n\u001b[0;32m      9\u001b[0m \u001b[0mplt\u001b[0m\u001b[1;33m.\u001b[0m\u001b[0mlegend\u001b[0m\u001b[1;33m(\u001b[0m\u001b[1;33m)\u001b[0m\u001b[1;33m\u001b[0m\u001b[1;33m\u001b[0m\u001b[0m\n",
      "\u001b[1;31mKeyError\u001b[0m: 'accuracy'"
     ]
    },
    {
     "data": {
      "image/png": "[encoded data removed]",
      "text/plain": [
       "<Figure size 576x288 with 2 Axes>"
      ]
     },
     "metadata": {
      "needs_background": "light"
     },
     "output_type": "display_data"
    }
   ],
   "source": [
    "plt.figure(figsize=(8, 4))\n",
    "plt.subplot(1, 2, 1)\n",
    "plt.plot(hist.history['loss'])\n",
    "plt.title(\"loss\")\n",
    "plt.subplot(1, 2, 2)\n",
    "plt.title(\"accuracy\")\n",
    "plt.plot(hist.history['accuracy'], 'b-', label=\"training\")\n",
    "plt.plot(hist.history['val_accuracy'], 'r:', label=\"validation\")\n",
    "plt.legend()\n",
    "plt.tight_layout()\n",
    "plt.show()"
   ]
  },
  {
   "cell_type": "markdown",
   "metadata": {
    "colab_type": "text",
    "id": "-cyqZlwJF6vk",
    "school_cell_uuid": "1b05379f72414ae5bc7f56005598f60e"
   },
   "source": [
    "## 가중치 정보"
   ]
  },
  {
   "cell_type": "markdown",
   "metadata": {
    "colab_type": "text",
    "id": "wbxGnK5yF6vm",
    "school_cell_uuid": "8dafec36e58c471ea36053e26e87bf80"
   },
   "source": [
    "트레이닝이 끝난 모형의 가중치 정보는 `get_weights` 메서드로 구할 수 있다. 이 메서드는 신경망 모형에서 사용된 가중치 $w$ 값과 $b$ 값을 출력한다."
   ]
  },
  {
   "cell_type": "code",
   "execution_count": 13,
   "metadata": {
    "colab": {
     "base_uri": "https://localhost:8080/",
     "height": 34
    },
    "colab_type": "code",
    "executionInfo": {
     "elapsed": 18088,
     "status": "ok",
     "timestamp": 1580986063407,
     "user": {
      "displayName": "Joel Kim",
      "photoUrl": "https://lh3.googleusercontent.com/a-/AAuE7mBN0WXo-0bYWXp5kx-AVZ6SaStj7WDcoC2A1QPiTYM=s64",
      "userId": "03446664688650714943"
     },
     "user_tz": -540
    },
    "id": "V7Xte1wmF6vn",
    "outputId": "eb700fce-799c-4139-d5ba-bed39da9d0f1",
    "school_cell_uuid": "4620388b0f814adaa147ccd8b8418547"
   },
   "outputs": [
    {
     "data": {
      "text/plain": [
       "((784, 15), (15,))"
      ]
     },
     "execution_count": 13,
     "metadata": {},
     "output_type": "execute_result"
    }
   ],
   "source": [
    "# 첫번째 레이어\n",
    "w1 = l1.get_weights()\n",
    "w1[0].shape, w1[1].shape"
   ]
  },
  {
   "cell_type": "code",
   "execution_count": 14,
   "metadata": {
    "colab": {
     "base_uri": "https://localhost:8080/",
     "height": 34
    },
    "colab_type": "code",
    "executionInfo": {
     "elapsed": 18077,
     "status": "ok",
     "timestamp": 1580986063409,
     "user": {
      "displayName": "Joel Kim",
      "photoUrl": "https://lh3.googleusercontent.com/a-/AAuE7mBN0WXo-0bYWXp5kx-AVZ6SaStj7WDcoC2A1QPiTYM=s64",
      "userId": "03446664688650714943"
     },
     "user_tz": -540
    },
    "id": "FdHXCjMtF6vr",
    "outputId": "a5c90a48-76e9-4438-e20b-aaaa6718f641",
    "school_cell_uuid": "b2a97e52bfe34f48a98976425be559df"
   },
   "outputs": [
    {
     "data": {
      "text/plain": [
       "((15, 10), (10,))"
      ]
     },
     "execution_count": 14,
     "metadata": {},
     "output_type": "execute_result"
    }
   ],
   "source": [
    "# 두번째 레이어\n",
    "w2 = l2.get_weights()\n",
    "w2[0].shape, w2[1].shape"
   ]
  },
  {
   "cell_type": "markdown",
   "metadata": {
    "colab_type": "text",
    "id": "_v1NLUVyF6vv",
    "school_cell_uuid": "e244e269c4494cb7a0010f98c1b538ad"
   },
   "source": [
    "## 모형의 사용"
   ]
  },
  {
   "cell_type": "markdown",
   "metadata": {
    "colab_type": "text",
    "id": "tD60xiYuF6vz",
    "school_cell_uuid": "0d4f1df4562b40be95c8d1a7b9292e29"
   },
   "source": [
    "트레이닝이 끝난 모형은 ``predict`` 메서드로 y 값을 출력하거나 출력된 y값을 각 클래스에 대한 판별함수로 가정하고 ``predict_classes`` 메서드로 분류를 수행할 수 있다. 예로 테스트 데이터셋의 첫번째 이미지를 예측하면 다음과 같다. "
   ]
  },
  {
   "cell_type": "code",
   "execution_count": 15,
   "metadata": {
    "colab": {
     "base_uri": "https://localhost:8080/",
     "height": 68
    },
    "colab_type": "code",
    "executionInfo": {
     "elapsed": 18033,
     "status": "ok",
     "timestamp": 1580986063410,
     "user": {
      "displayName": "Joel Kim",
      "photoUrl": "https://lh3.googleusercontent.com/a-/AAuE7mBN0WXo-0bYWXp5kx-AVZ6SaStj7WDcoC2A1QPiTYM=s64",
      "userId": "03446664688650714943"
     },
     "user_tz": -540
    },
    "id": "DHZBs3mrF6v2",
    "outputId": "8a81744a-05e2-470b-8dfb-b7c18beeaa16",
    "school_cell_uuid": "f62645642c3f467b9e7fbcb26b209f39"
   },
   "outputs": [
    {
     "data": {
      "text/plain": [
       "array([[0.1447553 , 0.06071165, 0.10263199, 0.05566004, 0.16465011,\n",
       "        0.05000478, 0.04898873, 0.6636011 , 0.09844549, 0.17394061]],\n",
       "      dtype=float32)"
      ]
     },
     "execution_count": 15,
     "metadata": {},
     "output_type": "execute_result"
    }
   ],
   "source": [
    "model.predict(X_test[:1, :])"
   ]
  },
  {
   "cell_type": "code",
   "execution_count": 16,
   "metadata": {
    "colab": {
     "base_uri": "https://localhost:8080/",
     "height": 34
    },
    "colab_type": "code",
    "executionInfo": {
     "elapsed": 17922,
     "status": "ok",
     "timestamp": 1580986063411,
     "user": {
      "displayName": "Joel Kim",
      "photoUrl": "https://lh3.googleusercontent.com/a-/AAuE7mBN0WXo-0bYWXp5kx-AVZ6SaStj7WDcoC2A1QPiTYM=s64",
      "userId": "03446664688650714943"
     },
     "user_tz": -540
    },
    "id": "kDH0q3zuF6v6",
    "outputId": "3ae7b105-2440-4a56-8c2e-1315af8ce63e",
    "school_cell_uuid": "a02bb60629d644f2b67dd819d269b5f3"
   },
   "outputs": [
    {
     "data": {
      "text/plain": [
       "array([7], dtype=int64)"
      ]
     },
     "execution_count": 16,
     "metadata": {},
     "output_type": "execute_result"
    }
   ],
   "source": [
    "model.predict_classes(X_test[:1, :], verbose=0)"
   ]
  },
  {
   "cell_type": "markdown",
   "metadata": {
    "colab_type": "text",
    "id": "lnY0-2BrF6v-",
    "school_cell_uuid": "ce1b659c19ff48519effdc974f87a2c1"
   },
   "source": [
    "테스트 데이터셋의 첫번째 이미지를 출력해보면 다음처럼 실제로 7이 나온다"
   ]
  },
  {
   "cell_type": "code",
   "execution_count": 17,
   "metadata": {
    "colab": {
     "base_uri": "https://localhost:8080/",
     "height": 85
    },
    "colab_type": "code",
    "executionInfo": {
     "elapsed": 18204,
     "status": "ok",
     "timestamp": 1580986063733,
     "user": {
      "displayName": "Joel Kim",
      "photoUrl": "https://lh3.googleusercontent.com/a-/AAuE7mBN0WXo-0bYWXp5kx-AVZ6SaStj7WDcoC2A1QPiTYM=s64",
      "userId": "03446664688650714943"
     },
     "user_tz": -540
    },
    "id": "ry56-M3gF6v_",
    "outputId": "27b45557-9daf-4858-e882-d139ffcf0732",
    "school_cell_uuid": "feca3a4353374b7aa802f1bb739db909"
   },
   "outputs": [
    {
     "data": {
      "image/png": "[encoded data removed]",
      "text/plain": [
       "<Figure size 72x72 with 1 Axes>"
      ]
     },
     "metadata": {
      "needs_background": "light"
     },
     "output_type": "display_data"
    }
   ],
   "source": [
    "plt.figure(figsize=(1, 1))\n",
    "plt.imshow(X_test0[0], cmap=plt.cm.bone_r)\n",
    "plt.grid(False)\n",
    "plt.axis(\"off\")\n",
    "plt.show()"
   ]
  },
  {
   "cell_type": "markdown",
   "metadata": {
    "colab_type": "text",
    "id": "-vmlHSfeF6wD",
    "school_cell_uuid": "d8b0ebf3071a4db99b4e71517fb06667"
   },
   "source": [
    "## 모형의 저장"
   ]
  },
  {
   "cell_type": "markdown",
   "metadata": {
    "colab_type": "text",
    "id": "f7iZGo8nF6wI",
    "school_cell_uuid": "b5196d01871443b587aaf8754de65849"
   },
   "source": [
    "트레이닝이 끝난 모형은 ``save`` 메서드로 가중치와 함께 \"hdf5\" 형식으로 저장하였다가 나중에 ``load`` 명령으로 불러 사용할 수 있다."
   ]
  },
  {
   "cell_type": "code",
   "execution_count": 18,
   "metadata": {
    "colab": {
     "base_uri": "https://localhost:8080/",
     "height": 51
    },
    "colab_type": "code",
    "executionInfo": {
     "elapsed": 18163,
     "status": "ok",
     "timestamp": 1580986063736,
     "user": {
      "displayName": "Joel Kim",
      "photoUrl": "https://lh3.googleusercontent.com/a-/AAuE7mBN0WXo-0bYWXp5kx-AVZ6SaStj7WDcoC2A1QPiTYM=s64",
      "userId": "03446664688650714943"
     },
     "user_tz": -540
    },
    "id": "MGVTh6JMF6wS",
    "outputId": "ff48c688-ccdf-43c7-cae5-51849c0aedca",
    "school_cell_uuid": "2cb7e633934e4a869d3c380087cbf75c"
   },
   "outputs": [
    {
     "name": "stdout",
     "output_type": "stream",
     "text": [
      "[[0.1447553  0.06071165 0.10263199 0.05566004 0.16465011 0.05000478\n",
      "  0.04898873 0.6636011  0.09844549 0.17394061]]\n"
     ]
    }
   ],
   "source": [
    "print(model.predict(X_test[:1, :]))"
   ]
  },
  {
   "cell_type": "code",
   "execution_count": 19,
   "metadata": {
    "colab": {
     "base_uri": "https://localhost:8080/",
     "height": 34
    },
    "colab_type": "code",
    "executionInfo": {
     "elapsed": 18149,
     "status": "ok",
     "timestamp": 1580986063739,
     "user": {
      "displayName": "Joel Kim",
      "photoUrl": "https://lh3.googleusercontent.com/a-/AAuE7mBN0WXo-0bYWXp5kx-AVZ6SaStj7WDcoC2A1QPiTYM=s64",
      "userId": "03446664688650714943"
     },
     "user_tz": -540
    },
    "id": "g9tM4XYEF6wY",
    "outputId": "b12b0e71-2fa6-484d-c9f7-aa2e24278aed",
    "school_cell_uuid": "bb3d440b2e5b4e5280d0e2c12bb53b38"
   },
   "outputs": [
    {
     "name": "stdout",
     "output_type": "stream",
     "text": [
      "[7]\n"
     ]
    }
   ],
   "source": [
    "print(model.predict_classes(X_test[:1, :], verbose=0))"
   ]
  },
  {
   "cell_type": "code",
   "execution_count": 20,
   "metadata": {
    "colab": {},
    "colab_type": "code",
    "collapsed": true,
    "id": "aIEd2gGeF6wc",
    "school_cell_uuid": "5baa7b3b39b44098968f3138880e7fa6"
   },
   "outputs": [],
   "source": [
    "model.save('my_model.hdf5')\n",
    "del model"
   ]
  },
  {
   "cell_type": "code",
   "execution_count": 21,
   "metadata": {
    "colab": {
     "base_uri": "https://localhost:8080/",
     "height": 34
    },
    "colab_type": "code",
    "executionInfo": {
     "elapsed": 18250,
     "status": "ok",
     "timestamp": 1580986064081,
     "user": {
      "displayName": "Joel Kim",
      "photoUrl": "https://lh3.googleusercontent.com/a-/AAuE7mBN0WXo-0bYWXp5kx-AVZ6SaStj7WDcoC2A1QPiTYM=s64",
      "userId": "03446664688650714943"
     },
     "user_tz": -540
    },
    "id": "fjzEIOr7F6wf",
    "outputId": "71e1de94-db3c-4ec5-ebc1-dc62c81e324a",
    "school_cell_uuid": "f8c68174572b4b1f9a8f88f3e91b5caa"
   },
   "outputs": [
    {
     "name": "stdout",
     "output_type": "stream",
     "text": [
      "WARNING:tensorflow:From C:\\Users\\saint\\Anaconda3\\envs\\chat_env\\lib\\site-packages\\tensorflow\\python\\ops\\init_ops.py:97: calling GlorotUniform.__init__ (from tensorflow.python.ops.init_ops) with dtype is deprecated and will be removed in a future version.\n",
      "Instructions for updating:\n",
      "Call initializer instance with the dtype argument instead of passing it to the constructor\n",
      "WARNING:tensorflow:From C:\\Users\\saint\\Anaconda3\\envs\\chat_env\\lib\\site-packages\\tensorflow\\python\\ops\\init_ops.py:97: calling Zeros.__init__ (from tensorflow.python.ops.init_ops) with dtype is deprecated and will be removed in a future version.\n",
      "Instructions for updating:\n",
      "Call initializer instance with the dtype argument instead of passing it to the constructor\n",
      "[7]\n"
     ]
    }
   ],
   "source": [
    "from tensorflow.keras.models import load_model\n",
    "\n",
    "model2 = load_model('my_model.hdf5')\n",
    "print(model2.predict_classes(X_test[:1, :], verbose=0))"
   ]
  },
  {
   "cell_type": "markdown",
   "metadata": {
    "bootstrap": {
     "panel": {
      "class": "panel-default"
     }
    },
    "colab_type": "text",
    "id": "aUmn6c6zF6wj",
    "school_cell_uuid": "76c755ebcfb347cd960516f321b9a08f"
   },
   "source": [
    "#### 연습 문제 1\n",
    "\n",
    "Keras를 사용하여 iris 분류 문제를 해결하는 신경망을 구현하라."
   ]
  },
  {
   "cell_type": "markdown",
   "metadata": {
    "bootstrap": {
     "panel": {
      "class": "panel-default"
     }
    },
    "colab_type": "text",
    "id": "jvnzZ8ZIF6wn",
    "school_cell_uuid": "90251af368c842d9a53531ec0c96683a"
   },
   "source": [
    "#### 연습 문제 2\n",
    "\n",
    "Keras를 사용하여 olivetti_faces 분류 문제를 해결하는 신경망을 구현하라."
   ]
  }
 ],
 "metadata": {
  "celltoolbar": "Edit Metadata",
  "colab": {
   "collapsed_sections": [],
   "name": "02.02 케라스를 사용한 신경망 구현.ipynb",
   "provenance": []
  },
  "kernelspec": {
   "display_name": "ChatApp_env",
   "language": "python",
   "name": "chat_env"
  },
  "language_info": {
   "codemirror_mode": {
    "name": "ipython",
    "version": 3
   },
   "file_extension": ".py",
   "mimetype": "text/x-python",
   "name": "python",
   "nbconvert_exporter": "python",
   "pygments_lexer": "ipython3",
   "version": "3.6.12"
  }
 },
 "nbformat": 4,
 "nbformat_minor": 1
}
